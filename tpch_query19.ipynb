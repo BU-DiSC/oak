{
 "cells": [
  {
   "cell_type": "code",
   "execution_count": 1,
   "metadata": {},
   "outputs": [],
   "source": [
    "import duckdb\n",
    "import time\n",
    "import pandas as pd\n",
    "import numpy as np\n",
    "\n",
    "from tqdm.auto import tqdm"
   ]
  },
  {
   "cell_type": "code",
   "execution_count": 2,
   "metadata": {},
   "outputs": [],
   "source": [
    "con = duckdb.connect(database=\"tpch_sf100.db\")"
   ]
  },
  {
   "cell_type": "code",
   "execution_count": 3,
   "metadata": {},
   "outputs": [],
   "source": [
    "#6D version\n",
    "query_template = \"\"\"select\n",
    "\tsum(l_extendedprice* (1 - l_discount)) as revenue\n",
    "from\n",
    "\tlineitem,\n",
    "\tpart\n",
    "where\n",
    "\t(\n",
    "\t\tp_partkey = l_partkey\n",
    "\t\tand p_brand = 'Brand#24'\n",
    "\t\tand p_container in ('SM CASE', 'SM BOX', 'SM PACK', 'SM PKG')\n",
    "\t\tand l_quantity >= $quantity1a and l_quantity <= $quantity1b\n",
    "\t\tand p_size between 1 and 5\n",
    "\t\tand l_shipmode in ('AIR', 'AIR REG')\n",
    "\t\tand l_shipinstruct = 'DELIVER IN PERSON'\n",
    "\t)\n",
    "\tor\n",
    "\t(\n",
    "\t\tp_partkey = l_partkey\n",
    "\t\tand p_brand = 'Brand#32'\n",
    "\t\tand p_container in ('MED BAG', 'MED BOX', 'MED PKG', 'MED PACK')\n",
    "\t\tand l_quantity >= $quantity2a and l_quantity <= $quantity2b\n",
    "\t\tand p_size between 1 and 10\n",
    "\t\tand l_shipmode in ('AIR', 'AIR REG')\n",
    "\t\tand l_shipinstruct = 'DELIVER IN PERSON'\n",
    "\t)\n",
    "\tor\n",
    "\t(\n",
    "\t\tp_partkey = l_partkey\n",
    "\t\tand p_brand = 'Brand#31'\n",
    "\t\tand p_container in ('LG CASE', 'LG BOX', 'LG PACK', 'LG PKG')\n",
    "\t\tand l_quantity >= $quantity3a and l_quantity <= $quantity3b\n",
    "\t\tand p_size between 1 and 15\n",
    "\t\tand l_shipmode in ('AIR', 'AIR REG')\n",
    "\t\tand l_shipinstruct = 'DELIVER IN PERSON'\n",
    "\t);\"\"\"\n"
   ]
  },
  {
   "cell_type": "code",
   "execution_count": 4,
   "metadata": {},
   "outputs": [],
   "source": [
    "#3D version\n",
    "query_template = \"\"\"select\n",
    "\tsum(l_extendedprice* (1 - l_discount)) as revenue\n",
    "from\n",
    "\tlineitem,\n",
    "\tpart\n",
    "where\n",
    "\t(\n",
    "\t\tp_partkey = l_partkey\n",
    "\t\tand p_brand = 'Brand#24'\n",
    "\t\tand p_container in ('SM CASE', 'SM BOX', 'SM PACK', 'SM PKG')\n",
    "\t\tand l_quantity >= $quantity1\n",
    "\t\tand p_size between 1 and 5\n",
    "\t\tand l_shipmode in ('AIR', 'AIR REG')\n",
    "\t\tand l_shipinstruct = 'DELIVER IN PERSON'\n",
    "\t)\n",
    "\tor\n",
    "\t(\n",
    "\t\tp_partkey = l_partkey\n",
    "\t\tand p_brand = 'Brand#32'\n",
    "\t\tand p_container in ('MED BAG', 'MED BOX', 'MED PKG', 'MED PACK')\n",
    "\t\tand l_quantity >= $quantity2\n",
    "\t\tand p_size between 1 and 10\n",
    "\t\tand l_shipmode in ('AIR', 'AIR REG')\n",
    "\t\tand l_shipinstruct = 'DELIVER IN PERSON'\n",
    "\t)\n",
    "\tor\n",
    "\t(\n",
    "\t\tp_partkey = l_partkey\n",
    "\t\tand p_brand = 'Brand#31'\n",
    "\t\tand p_container in ('LG CASE', 'LG BOX', 'LG PACK', 'LG PKG')\n",
    "\t\tand l_quantity >= $quantity3\n",
    "\t\tand p_size between 1 and 15\n",
    "\t\tand l_shipmode in ('AIR', 'AIR REG')\n",
    "\t\tand l_shipinstruct = 'DELIVER IN PERSON'\n",
    "\t);\"\"\""
   ]
  },
  {
   "cell_type": "code",
   "execution_count": 5,
   "metadata": {},
   "outputs": [
    {
     "data": {
      "text/plain": [
       "(1.0, 50.0)"
      ]
     },
     "execution_count": 5,
     "metadata": {},
     "output_type": "execute_result"
    }
   ],
   "source": [
    "min_quantity = float(con.sql(\"SELECT MIN(l_quantity) FROM lineitem\").fetchone()[0])\n",
    "max_quantity = float(con.sql(\"SELECT MAX(l_quantity) FROM lineitem\").fetchone()[0])\n",
    "(min_quantity, max_quantity)"
   ]
  },
  {
   "cell_type": "code",
   "execution_count": 6,
   "metadata": {},
   "outputs": [
    {
     "data": {
      "application/vnd.jupyter.widget-view+json": {
       "model_id": "aec0eed4bc4247c09522144c246a3e84",
       "version_major": 2,
       "version_minor": 0
      },
      "text/plain": [
       "  0%|          | 0/2 [00:00<?, ?it/s]"
      ]
     },
     "metadata": {},
     "output_type": "display_data"
    },
    {
     "data": {
      "application/vnd.jupyter.widget-view+json": {
       "model_id": "",
       "version_major": 2,
       "version_minor": 0
      },
      "text/plain": [
       "  0%|          | 0/2 [00:00<?, ?it/s]"
      ]
     },
     "metadata": {},
     "output_type": "display_data"
    },
    {
     "data": {
      "application/vnd.jupyter.widget-view+json": {
       "model_id": "",
       "version_major": 2,
       "version_minor": 0
      },
      "text/plain": [
       "  0%|          | 0/2 [00:00<?, ?it/s]"
      ]
     },
     "metadata": {},
     "output_type": "display_data"
    },
    {
     "data": {
      "application/vnd.jupyter.widget-view+json": {
       "model_id": "",
       "version_major": 2,
       "version_minor": 0
      },
      "text/plain": [
       "  0%|          | 0/2 [00:00<?, ?it/s]"
      ]
     },
     "metadata": {},
     "output_type": "display_data"
    },
    {
     "data": {
      "application/vnd.jupyter.widget-view+json": {
       "model_id": "",
       "version_major": 2,
       "version_minor": 0
      },
      "text/plain": [
       "  0%|          | 0/2 [00:00<?, ?it/s]"
      ]
     },
     "metadata": {},
     "output_type": "display_data"
    },
    {
     "data": {
      "application/vnd.jupyter.widget-view+json": {
       "model_id": "",
       "version_major": 2,
       "version_minor": 0
      },
      "text/plain": [
       "  0%|          | 0/2 [00:00<?, ?it/s]"
      ]
     },
     "metadata": {},
     "output_type": "display_data"
    },
    {
     "data": {
      "application/vnd.jupyter.widget-view+json": {
       "model_id": "",
       "version_major": 2,
       "version_minor": 0
      },
      "text/plain": [
       "  0%|          | 0/2 [00:00<?, ?it/s]"
      ]
     },
     "metadata": {},
     "output_type": "display_data"
    }
   ],
   "source": [
    "table = []\n",
    "NUM_TRIALS = 3\n",
    "\n",
    "for quantity1 in tqdm(list(np.arange(min_quantity, max_quantity + 1.00, 1.00))):\n",
    "    for quantity2 in tqdm(list(np.arange(min_quantity, max_quantity + 1.00, 1.00)), leave=False):\n",
    "        for quantity3 in tqdm(list(np.arange(min_quantity, max_quantity + 1.00, 1.00)), leave=False):\n",
    "            params = {'quantity1': quantity1, 'quantity2': quantity2, 'quantity3': quantity3}\n",
    "            row = dict()\n",
    "            for trial in range(NUM_TRIALS):\n",
    "                start = time.time()\n",
    "                res = con.sql(query_template, params=params)\n",
    "                elapsed = time.time() - start\n",
    "                row[f'elapsed_{trial}'] = elapsed\n",
    "                # If we want to, save the result for a sanity check\n",
    "                # row[f'res_{trial}'] = res.fetchall()\n",
    "            table.append({**params, **row})\n",
    "\n",
    "table = pd.DataFrame(table)"
   ]
  },
  {
   "cell_type": "code",
   "execution_count": 7,
   "metadata": {},
   "outputs": [
    {
     "data": {
      "text/html": [
       "<div>\n",
       "<style scoped>\n",
       "    .dataframe tbody tr th:only-of-type {\n",
       "        vertical-align: middle;\n",
       "    }\n",
       "\n",
       "    .dataframe tbody tr th {\n",
       "        vertical-align: top;\n",
       "    }\n",
       "\n",
       "    .dataframe thead th {\n",
       "        text-align: right;\n",
       "    }\n",
       "</style>\n",
       "<table border=\"1\" class=\"dataframe\">\n",
       "  <thead>\n",
       "    <tr style=\"text-align: right;\">\n",
       "      <th></th>\n",
       "      <th>quantity1</th>\n",
       "      <th>quantity2</th>\n",
       "      <th>quantity3</th>\n",
       "      <th>elapsed_0</th>\n",
       "      <th>res_0</th>\n",
       "      <th>elapsed_1</th>\n",
       "      <th>res_1</th>\n",
       "      <th>elapsed_2</th>\n",
       "      <th>res_2</th>\n",
       "    </tr>\n",
       "  </thead>\n",
       "  <tbody>\n",
       "    <tr>\n",
       "      <th>0</th>\n",
       "      <td>1.0</td>\n",
       "      <td>1.0</td>\n",
       "      <td>1.0</td>\n",
       "      <td>0.573817</td>\n",
       "      <td>[(1838703674.2484,)]</td>\n",
       "      <td>0.275053</td>\n",
       "      <td>[(1838703674.2484,)]</td>\n",
       "      <td>0.275232</td>\n",
       "      <td>[(1838703674.2484,)]</td>\n",
       "    </tr>\n",
       "    <tr>\n",
       "      <th>1</th>\n",
       "      <td>1.0</td>\n",
       "      <td>1.0</td>\n",
       "      <td>26.0</td>\n",
       "      <td>0.664166</td>\n",
       "      <td>[(1599730890.4616,)]</td>\n",
       "      <td>0.646265</td>\n",
       "      <td>[(1599730890.4616,)]</td>\n",
       "      <td>0.659423</td>\n",
       "      <td>[(1599730890.4616,)]</td>\n",
       "    </tr>\n",
       "    <tr>\n",
       "      <th>2</th>\n",
       "      <td>1.0</td>\n",
       "      <td>26.0</td>\n",
       "      <td>1.0</td>\n",
       "      <td>0.656994</td>\n",
       "      <td>[(1681281545.3527,)]</td>\n",
       "      <td>0.658700</td>\n",
       "      <td>[(1681281545.3527,)]</td>\n",
       "      <td>0.654850</td>\n",
       "      <td>[(1681281545.3527,)]</td>\n",
       "    </tr>\n",
       "    <tr>\n",
       "      <th>3</th>\n",
       "      <td>1.0</td>\n",
       "      <td>26.0</td>\n",
       "      <td>26.0</td>\n",
       "      <td>0.665326</td>\n",
       "      <td>[(1442308761.5659,)]</td>\n",
       "      <td>0.666998</td>\n",
       "      <td>[(1442308761.5659,)]</td>\n",
       "      <td>0.672645</td>\n",
       "      <td>[(1442308761.5659,)]</td>\n",
       "    </tr>\n",
       "    <tr>\n",
       "      <th>4</th>\n",
       "      <td>26.0</td>\n",
       "      <td>1.0</td>\n",
       "      <td>1.0</td>\n",
       "      <td>0.664994</td>\n",
       "      <td>[(1758115285.8340,)]</td>\n",
       "      <td>0.654283</td>\n",
       "      <td>[(1758115285.8340,)]</td>\n",
       "      <td>0.654265</td>\n",
       "      <td>[(1758115285.8340,)]</td>\n",
       "    </tr>\n",
       "    <tr>\n",
       "      <th>5</th>\n",
       "      <td>26.0</td>\n",
       "      <td>1.0</td>\n",
       "      <td>26.0</td>\n",
       "      <td>0.672497</td>\n",
       "      <td>[(1519142502.0472,)]</td>\n",
       "      <td>0.664206</td>\n",
       "      <td>[(1519142502.0472,)]</td>\n",
       "      <td>0.669655</td>\n",
       "      <td>[(1519142502.0472,)]</td>\n",
       "    </tr>\n",
       "    <tr>\n",
       "      <th>6</th>\n",
       "      <td>26.0</td>\n",
       "      <td>26.0</td>\n",
       "      <td>1.0</td>\n",
       "      <td>0.664853</td>\n",
       "      <td>[(1600693156.9383,)]</td>\n",
       "      <td>0.659455</td>\n",
       "      <td>[(1600693156.9383,)]</td>\n",
       "      <td>0.664877</td>\n",
       "      <td>[(1600693156.9383,)]</td>\n",
       "    </tr>\n",
       "    <tr>\n",
       "      <th>7</th>\n",
       "      <td>26.0</td>\n",
       "      <td>26.0</td>\n",
       "      <td>26.0</td>\n",
       "      <td>0.272752</td>\n",
       "      <td>[(1361720373.1515,)]</td>\n",
       "      <td>0.274995</td>\n",
       "      <td>[(1361720373.1515,)]</td>\n",
       "      <td>0.267837</td>\n",
       "      <td>[(1361720373.1515,)]</td>\n",
       "    </tr>\n",
       "  </tbody>\n",
       "</table>\n",
       "</div>"
      ],
      "text/plain": [
       "   quantity1  quantity2  quantity3  elapsed_0                 res_0  \\\n",
       "0        1.0        1.0        1.0   0.573817  [(1838703674.2484,)]   \n",
       "1        1.0        1.0       26.0   0.664166  [(1599730890.4616,)]   \n",
       "2        1.0       26.0        1.0   0.656994  [(1681281545.3527,)]   \n",
       "3        1.0       26.0       26.0   0.665326  [(1442308761.5659,)]   \n",
       "4       26.0        1.0        1.0   0.664994  [(1758115285.8340,)]   \n",
       "5       26.0        1.0       26.0   0.672497  [(1519142502.0472,)]   \n",
       "6       26.0       26.0        1.0   0.664853  [(1600693156.9383,)]   \n",
       "7       26.0       26.0       26.0   0.272752  [(1361720373.1515,)]   \n",
       "\n",
       "   elapsed_1                 res_1  elapsed_2                 res_2  \n",
       "0   0.275053  [(1838703674.2484,)]   0.275232  [(1838703674.2484,)]  \n",
       "1   0.646265  [(1599730890.4616,)]   0.659423  [(1599730890.4616,)]  \n",
       "2   0.658700  [(1681281545.3527,)]   0.654850  [(1681281545.3527,)]  \n",
       "3   0.666998  [(1442308761.5659,)]   0.672645  [(1442308761.5659,)]  \n",
       "4   0.654283  [(1758115285.8340,)]   0.654265  [(1758115285.8340,)]  \n",
       "5   0.664206  [(1519142502.0472,)]   0.669655  [(1519142502.0472,)]  \n",
       "6   0.659455  [(1600693156.9383,)]   0.664877  [(1600693156.9383,)]  \n",
       "7   0.274995  [(1361720373.1515,)]   0.267837  [(1361720373.1515,)]  "
      ]
     },
     "execution_count": 7,
     "metadata": {},
     "output_type": "execute_result"
    }
   ],
   "source": [
    "table"
   ]
  },
  {
   "cell_type": "code",
   "execution_count": 8,
   "metadata": {},
   "outputs": [],
   "source": [
    "con.close()"
   ]
  }
 ],
 "metadata": {
  "kernelspec": {
   "display_name": "Python 3 (ipykernel)",
   "language": "python",
   "name": "python3"
  },
  "language_info": {
   "codemirror_mode": {
    "name": "ipython",
    "version": 3
   },
   "file_extension": ".py",
   "mimetype": "text/x-python",
   "name": "python",
   "nbconvert_exporter": "python",
   "pygments_lexer": "ipython3",
   "version": "3.12.4"
  }
 },
 "nbformat": 4,
 "nbformat_minor": 4
}
