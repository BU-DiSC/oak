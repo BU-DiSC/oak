{
 "cells": [
  {
   "cell_type": "code",
   "execution_count": 1,
   "metadata": {},
   "outputs": [
    {
     "name": "stderr",
     "output_type": "stream",
     "text": [
      "/home/newuser/.local/lib/python3.10/site-packages/tqdm/auto.py:21: TqdmWarning: IProgress not found. Please update jupyter and ipywidgets. See https://ipywidgets.readthedocs.io/en/stable/user_install.html\n",
      "  from .autonotebook import tqdm as notebook_tqdm\n"
     ]
    }
   ],
   "source": [
    "import duckdb\n",
    "import time\n",
    "import pandas as pd\n",
    "from tqdm.auto import tqdm\n",
    "import numpy as np"
   ]
  },
  {
   "cell_type": "code",
   "execution_count": 2,
   "metadata": {},
   "outputs": [],
   "source": [
    "con = duckdb.connect(database=\"tpch_sf1.db\")"
   ]
  },
  {
   "cell_type": "code",
   "execution_count": 3,
   "metadata": {},
   "outputs": [],
   "source": [
    "#2D\n",
    "query_template = \"\"\"select\n",
    "\tl_shipmode,\n",
    "\tsum(case\n",
    "\t\twhen o_orderpriority = '1-URGENT'\n",
    "\t\t\tor o_orderpriority = '2-HIGH'\n",
    "\t\t\tthen 1\n",
    "\t\telse 0\n",
    "\tend) as high_line_count,\n",
    "\tsum(case\n",
    "\t\twhen o_orderpriority <> '1-URGENT'\n",
    "\t\t\tand o_orderpriority <> '2-HIGH'\n",
    "\t\t\tthen 1\n",
    "\t\telse 0\n",
    "\tend) as low_line_count\n",
    "from\n",
    "\torders,\n",
    "\tlineitem\n",
    "where\n",
    "\to_orderkey = l_orderkey\n",
    "\tand l_shipmode in ('AIR', 'REG AIR')\n",
    "\tand l_commitdate < l_receiptdate\n",
    "\tand l_shipdate < l_commitdate\n",
    "\tand l_receiptdate >= '$receiptdate1'\n",
    "\tand l_receiptdate < '$receiptdate2'\n",
    "group by\n",
    "\tl_shipmode\n",
    "order by\n",
    "\tl_shipmode;\"\"\"\n"
   ]
  },
  {
   "cell_type": "code",
   "execution_count": 4,
   "metadata": {},
   "outputs": [
    {
     "data": {
      "text/plain": [
       "(datetime.date(1992, 1, 4), datetime.date(1998, 12, 31))"
      ]
     },
     "execution_count": 4,
     "metadata": {},
     "output_type": "execute_result"
    }
   ],
   "source": [
    "min_receiptdate = con.sql(\"SELECT MIN(l_receiptdate) FROM lineitem\").fetchone()[0]\n",
    "max_sreceiptdate = con.sql(\"SELECT MAX(l_receiptdate) FROM lineitem\").fetchone()[0]\n",
    "(min_receiptdate, max_sreceiptdate)"
   ]
  },
  {
   "cell_type": "code",
   "execution_count": 7,
   "metadata": {},
   "outputs": [
    {
     "name": "stderr",
     "output_type": "stream",
     "text": [
      "100%|██████████| 86/86 [00:01<00:00, 53.19it/s]\n"
     ]
    },
    {
     "data": {
      "text/html": [
       "<div>\n",
       "<style scoped>\n",
       "    .dataframe tbody tr th:only-of-type {\n",
       "        vertical-align: middle;\n",
       "    }\n",
       "\n",
       "    .dataframe tbody tr th {\n",
       "        vertical-align: top;\n",
       "    }\n",
       "\n",
       "    .dataframe thead th {\n",
       "        text-align: right;\n",
       "    }\n",
       "</style>\n",
       "<table border=\"1\" class=\"dataframe\">\n",
       "  <thead>\n",
       "    <tr style=\"text-align: right;\">\n",
       "      <th></th>\n",
       "      <th>receiptdate1</th>\n",
       "      <th>receiptdate2</th>\n",
       "      <th>elapsed</th>\n",
       "    </tr>\n",
       "  </thead>\n",
       "  <tbody>\n",
       "    <tr>\n",
       "      <th>0</th>\n",
       "      <td>1992-01-04</td>\n",
       "      <td>1992-01-04</td>\n",
       "      <td>0.000448</td>\n",
       "    </tr>\n",
       "    <tr>\n",
       "      <th>1</th>\n",
       "      <td>1992-01-04</td>\n",
       "      <td>1992-02-03</td>\n",
       "      <td>0.000210</td>\n",
       "    </tr>\n",
       "    <tr>\n",
       "      <th>2</th>\n",
       "      <td>1992-01-04</td>\n",
       "      <td>1992-03-04</td>\n",
       "      <td>0.000170</td>\n",
       "    </tr>\n",
       "    <tr>\n",
       "      <th>3</th>\n",
       "      <td>1992-01-04</td>\n",
       "      <td>1992-04-03</td>\n",
       "      <td>0.000163</td>\n",
       "    </tr>\n",
       "    <tr>\n",
       "      <th>4</th>\n",
       "      <td>1992-01-04</td>\n",
       "      <td>1992-05-03</td>\n",
       "      <td>0.000241</td>\n",
       "    </tr>\n",
       "    <tr>\n",
       "      <th>...</th>\n",
       "      <td>...</td>\n",
       "      <td>...</td>\n",
       "      <td>...</td>\n",
       "    </tr>\n",
       "    <tr>\n",
       "      <th>7391</th>\n",
       "      <td>1998-12-28</td>\n",
       "      <td>1998-08-30</td>\n",
       "      <td>0.000167</td>\n",
       "    </tr>\n",
       "    <tr>\n",
       "      <th>7392</th>\n",
       "      <td>1998-12-28</td>\n",
       "      <td>1998-09-29</td>\n",
       "      <td>0.000175</td>\n",
       "    </tr>\n",
       "    <tr>\n",
       "      <th>7393</th>\n",
       "      <td>1998-12-28</td>\n",
       "      <td>1998-10-29</td>\n",
       "      <td>0.000178</td>\n",
       "    </tr>\n",
       "    <tr>\n",
       "      <th>7394</th>\n",
       "      <td>1998-12-28</td>\n",
       "      <td>1998-11-28</td>\n",
       "      <td>0.000159</td>\n",
       "    </tr>\n",
       "    <tr>\n",
       "      <th>7395</th>\n",
       "      <td>1998-12-28</td>\n",
       "      <td>1998-12-28</td>\n",
       "      <td>0.000163</td>\n",
       "    </tr>\n",
       "  </tbody>\n",
       "</table>\n",
       "<p>7396 rows × 3 columns</p>\n",
       "</div>"
      ],
      "text/plain": [
       "     receiptdate1 receiptdate2   elapsed\n",
       "0      1992-01-04   1992-01-04  0.000448\n",
       "1      1992-01-04   1992-02-03  0.000210\n",
       "2      1992-01-04   1992-03-04  0.000170\n",
       "3      1992-01-04   1992-04-03  0.000163\n",
       "4      1992-01-04   1992-05-03  0.000241\n",
       "...           ...          ...       ...\n",
       "7391   1998-12-28   1998-08-30  0.000167\n",
       "7392   1998-12-28   1998-09-29  0.000175\n",
       "7393   1998-12-28   1998-10-29  0.000178\n",
       "7394   1998-12-28   1998-11-28  0.000159\n",
       "7395   1998-12-28   1998-12-28  0.000163\n",
       "\n",
       "[7396 rows x 3 columns]"
      ]
     },
     "execution_count": 7,
     "metadata": {},
     "output_type": "execute_result"
    }
   ],
   "source": [
    "table = []\n",
    "\n",
    "# Loop over the date range for `receiptdate`\n",
    "for receiptdate1 in tqdm(list(pd.date_range(min_receiptdate, max_sreceiptdate, freq='30D'))):\n",
    "    # Loop over the range for `receiptdate`\n",
    "    for receiptdate2 in tqdm(list(pd.date_range(min_receiptdate, max_sreceiptdate, freq='30D')), leave=False):\n",
    "            params = {'receiptdate1': receiptdate1, 'receiptdate2': receiptdate2}\n",
    "            for key, val in params.items():\n",
    "                query_template = query_template.replace(f\"${key}\", str(val))\n",
    "            start = time.time()\n",
    "            res = con.sql(query_template)\n",
    "            elapsed = time.time() - start\n",
    "            params['elapsed'] = elapsed\n",
    "            table.append(params)\n",
    "\n",
    "table = pd.DataFrame(table)\n",
    "table"
   ]
  }
 ],
 "metadata": {
  "kernelspec": {
   "display_name": "Python 3",
   "language": "python",
   "name": "python3"
  },
  "language_info": {
   "codemirror_mode": {
    "name": "ipython",
    "version": 3
   },
   "file_extension": ".py",
   "mimetype": "text/x-python",
   "name": "python",
   "nbconvert_exporter": "python",
   "pygments_lexer": "ipython3",
   "version": "3.10.12"
  }
 },
 "nbformat": 4,
 "nbformat_minor": 2
}
