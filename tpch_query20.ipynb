{
 "cells": [
  {
   "cell_type": "code",
   "execution_count": 1,
   "metadata": {},
   "outputs": [
    {
     "name": "stderr",
     "output_type": "stream",
     "text": [
      "/home/newuser/.local/lib/python3.10/site-packages/tqdm/auto.py:21: TqdmWarning: IProgress not found. Please update jupyter and ipywidgets. See https://ipywidgets.readthedocs.io/en/stable/user_install.html\n",
      "  from .autonotebook import tqdm as notebook_tqdm\n"
     ]
    }
   ],
   "source": [
    "import duckdb\n",
    "import time\n",
    "import pandas as pd\n",
    "from tqdm.auto import tqdm\n",
    "import numpy as np"
   ]
  },
  {
   "cell_type": "code",
   "execution_count": 16,
   "metadata": {},
   "outputs": [],
   "source": [
    "con = duckdb.connect(database=\"tpch_sf1.db\")"
   ]
  },
  {
   "cell_type": "code",
   "execution_count": 11,
   "metadata": {},
   "outputs": [],
   "source": [
    "#2D\n",
    "query_template = \"\"\"select s_name, s_address\n",
    "from supplier,nation\n",
    "where\n",
    "\ts_suppkey in (\n",
    "\t\tselect ps_suppkey\n",
    "\t\tfrom partsupp\n",
    "\t\twhere\n",
    "\t\t\tps_partkey in (\n",
    "\t\t\t\tselect p_partkey\n",
    "\t\t\t\tfrom part\n",
    "\t\t\t\twhere p_name like 'navajo%'\n",
    "\t\t\t)\n",
    "\t\t\tand ps_availqty > (\n",
    "\t\t\t\tselect 0.5 * sum(l_quantity)\n",
    "\t\t\t\tfrom lineitem\n",
    "\t\t\t\twhere\n",
    "\t\t\t\t\tl_partkey = ps_partkey\n",
    "\t\t\t\t\tand l_suppkey = ps_suppkey\n",
    "\t\t\t\t\tand l_shipdate >= '$shipdate1'\n",
    "\t\t\t\t\tand l_shipdate < '$shipdate2'\n",
    "\t\t\t)\n",
    "\t)\n",
    "\tand s_nationkey = n_nationkey and n_name = 'ETHIOPIA'\n",
    "order by s_name;\"\"\"\n"
   ]
  },
  {
   "cell_type": "code",
   "execution_count": 4,
   "metadata": {},
   "outputs": [
    {
     "data": {
      "text/plain": [
       "(datetime.date(1992, 1, 2), datetime.date(1998, 12, 1))"
      ]
     },
     "execution_count": 4,
     "metadata": {},
     "output_type": "execute_result"
    }
   ],
   "source": [
    "min_shipdate = con.sql(\"SELECT MIN(l_shipdate) FROM lineitem\").fetchone()[0]\n",
    "max_shipdate = con.sql(\"SELECT MAX(l_shipdate) FROM lineitem\").fetchone()[0]\n",
    "(min_shipdate, max_shipdate)"
   ]
  },
  {
   "cell_type": "code",
   "execution_count": 17,
   "metadata": {},
   "outputs": [
    {
     "name": "stderr",
     "output_type": "stream",
     "text": [
      "100%|██████████| 85/85 [00:02<00:00, 39.63it/s]\n"
     ]
    },
    {
     "data": {
      "text/html": [
       "<div>\n",
       "<style scoped>\n",
       "    .dataframe tbody tr th:only-of-type {\n",
       "        vertical-align: middle;\n",
       "    }\n",
       "\n",
       "    .dataframe tbody tr th {\n",
       "        vertical-align: top;\n",
       "    }\n",
       "\n",
       "    .dataframe thead th {\n",
       "        text-align: right;\n",
       "    }\n",
       "</style>\n",
       "<table border=\"1\" class=\"dataframe\">\n",
       "  <thead>\n",
       "    <tr style=\"text-align: right;\">\n",
       "      <th></th>\n",
       "      <th>shipdate1</th>\n",
       "      <th>shipdate2</th>\n",
       "      <th>elapsed</th>\n",
       "    </tr>\n",
       "  </thead>\n",
       "  <tbody>\n",
       "    <tr>\n",
       "      <th>0</th>\n",
       "      <td>1992-01-02</td>\n",
       "      <td>1992-01-02</td>\n",
       "      <td>0.000648</td>\n",
       "    </tr>\n",
       "    <tr>\n",
       "      <th>1</th>\n",
       "      <td>1992-01-02</td>\n",
       "      <td>1992-02-01</td>\n",
       "      <td>0.000348</td>\n",
       "    </tr>\n",
       "    <tr>\n",
       "      <th>2</th>\n",
       "      <td>1992-01-02</td>\n",
       "      <td>1992-03-02</td>\n",
       "      <td>0.000264</td>\n",
       "    </tr>\n",
       "    <tr>\n",
       "      <th>3</th>\n",
       "      <td>1992-01-02</td>\n",
       "      <td>1992-04-01</td>\n",
       "      <td>0.000251</td>\n",
       "    </tr>\n",
       "    <tr>\n",
       "      <th>4</th>\n",
       "      <td>1992-01-02</td>\n",
       "      <td>1992-05-01</td>\n",
       "      <td>0.000246</td>\n",
       "    </tr>\n",
       "    <tr>\n",
       "      <th>...</th>\n",
       "      <td>...</td>\n",
       "      <td>...</td>\n",
       "      <td>...</td>\n",
       "    </tr>\n",
       "    <tr>\n",
       "      <th>7220</th>\n",
       "      <td>1998-11-26</td>\n",
       "      <td>1998-07-29</td>\n",
       "      <td>0.000250</td>\n",
       "    </tr>\n",
       "    <tr>\n",
       "      <th>7221</th>\n",
       "      <td>1998-11-26</td>\n",
       "      <td>1998-08-28</td>\n",
       "      <td>0.000241</td>\n",
       "    </tr>\n",
       "    <tr>\n",
       "      <th>7222</th>\n",
       "      <td>1998-11-26</td>\n",
       "      <td>1998-09-27</td>\n",
       "      <td>0.000262</td>\n",
       "    </tr>\n",
       "    <tr>\n",
       "      <th>7223</th>\n",
       "      <td>1998-11-26</td>\n",
       "      <td>1998-10-27</td>\n",
       "      <td>0.000236</td>\n",
       "    </tr>\n",
       "    <tr>\n",
       "      <th>7224</th>\n",
       "      <td>1998-11-26</td>\n",
       "      <td>1998-11-26</td>\n",
       "      <td>0.000207</td>\n",
       "    </tr>\n",
       "  </tbody>\n",
       "</table>\n",
       "<p>7225 rows × 3 columns</p>\n",
       "</div>"
      ],
      "text/plain": [
       "      shipdate1  shipdate2   elapsed\n",
       "0    1992-01-02 1992-01-02  0.000648\n",
       "1    1992-01-02 1992-02-01  0.000348\n",
       "2    1992-01-02 1992-03-02  0.000264\n",
       "3    1992-01-02 1992-04-01  0.000251\n",
       "4    1992-01-02 1992-05-01  0.000246\n",
       "...         ...        ...       ...\n",
       "7220 1998-11-26 1998-07-29  0.000250\n",
       "7221 1998-11-26 1998-08-28  0.000241\n",
       "7222 1998-11-26 1998-09-27  0.000262\n",
       "7223 1998-11-26 1998-10-27  0.000236\n",
       "7224 1998-11-26 1998-11-26  0.000207\n",
       "\n",
       "[7225 rows x 3 columns]"
      ]
     },
     "execution_count": 17,
     "metadata": {},
     "output_type": "execute_result"
    }
   ],
   "source": [
    "table = []\n",
    "\n",
    "# Loop over the date range for `receiptdate`\n",
    "for shipdate1 in tqdm(list(pd.date_range(min_shipdate, max_shipdate, freq='30D'))):\n",
    "    # Loop over the range for `receiptdate`\n",
    "    for shipdate2 in tqdm(list(pd.date_range(min_shipdate, max_shipdate, freq='30D')), leave=False):\n",
    "            params = {'shipdate1': shipdate1, 'shipdate2': shipdate2}\n",
    "            for key, val in params.items():\n",
    "                query_template = query_template.replace(f\"${key}\", str(val))\n",
    "            start = time.time()\n",
    "            #print(query_template)\n",
    "            res = con.sql(query_template)\n",
    "            elapsed = time.time() - start\n",
    "            params['elapsed'] = elapsed\n",
    "            table.append(params)\n",
    "\n",
    "table = pd.DataFrame(table)\n",
    "table"
   ]
  },
  {
   "cell_type": "code",
   "execution_count": 18,
   "metadata": {},
   "outputs": [],
   "source": [
    "con.close()"
   ]
  }
 ],
 "metadata": {
  "kernelspec": {
   "display_name": "Python 3",
   "language": "python",
   "name": "python3"
  },
  "language_info": {
   "codemirror_mode": {
    "name": "ipython",
    "version": 3
   },
   "file_extension": ".py",
   "mimetype": "text/x-python",
   "name": "python",
   "nbconvert_exporter": "python",
   "pygments_lexer": "ipython3",
   "version": "3.10.12"
  }
 },
 "nbformat": 4,
 "nbformat_minor": 2
}
