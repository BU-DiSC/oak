{
 "cells": [
  {
   "cell_type": "code",
   "execution_count": 1,
   "id": "ed9de5cd-3cf5-433b-828e-04ad277c1baf",
   "metadata": {},
   "outputs": [],
   "source": [
    "from botorch.acquisition import LogExpectedImprovement\n",
    "from botorch.fit import fit_gpytorch_mll\n",
    "from botorch.models import SingleTaskGP\n",
    "from botorch.models.transforms import Normalize, Standardize\n",
    "from botorch.optim import optimize_acqf\n",
    "from gpytorch.mlls import ExactMarginalLogLikelihood\n",
    "\n",
    "import datetime\n",
    "import polars as pl\n",
    "import torch"
   ]
  },
  {
   "cell_type": "markdown",
   "id": "fca31c66-e822-4391-8f32-ad50e6de0edf",
   "metadata": {},
   "source": [
    "# Reading in Data\n",
    "\n",
    "Start with TPCH Q12 here. For reference\n",
    "```SQL\n",
    "SELECT\n",
    "  l_shipmode,\n",
    "  SUM(CASE\n",
    "      WHEN o_orderpriority = '1-URGENT'\n",
    "          OR o_orderpriority = '2-HIGH'\n",
    "          THEN 1\n",
    "      ELSE 0\n",
    "  END) as high_line_count,\n",
    "  SUM(CASE\n",
    "      WHEN o_orderpriority <> '1-URGENT'\n",
    "          AND o_orderpriority <> '2-HIGH'\n",
    "          THEN 1\n",
    "      ELSE 0\n",
    "  END) AS low_line_count\n",
    "FROM\n",
    "    orders,\n",
    "    lineitem\n",
    "WHERE\n",
    "  o_orderkey = l_orderkey\n",
    "  AND l_shipmode IN ('AIR', 'REG AIR')\n",
    "  AND l_commitdate < l_receiptdate\n",
    "  AND l_shipdate < l_commitdate\n",
    "  AND l_receiptdate >= $receiptdate1\n",
    "  AND l_receiptdate < $receiptdate2\n",
    "GROUP BY\n",
    "      l_shipmode \n",
    "ORDER BY\n",
    "    l_shipmode;\n",
    "```"
   ]
  },
  {
   "cell_type": "code",
   "execution_count": 2,
   "id": "52dbbadb-dca1-4a2b-8188-cbdbda4d336b",
   "metadata": {
    "scrolled": true
   },
   "outputs": [
    {
     "data": {
      "text/html": [
       "<div><style>\n",
       ".dataframe > thead > tr,\n",
       ".dataframe > tbody > tr {\n",
       "  text-align: right;\n",
       "  white-space: pre-wrap;\n",
       "}\n",
       "</style>\n",
       "<small>shape: (7_396, 9)</small><table border=\"1\" class=\"dataframe\"><thead><tr><th>id</th><th>receiptdate1</th><th>receiptdate2</th><th>elapsed_0</th><th>elapsed_1</th><th>elapsed_2</th><th>mean_elapsed</th><th>selectivity1</th><th>selectivity2</th></tr><tr><td>i64</td><td>datetime[ms]</td><td>datetime[ms]</td><td>f64</td><td>f64</td><td>f64</td><td>f64</td><td>f64</td><td>f64</td></tr></thead><tbody><tr><td>0</td><td>1992-01-03&nbsp;00:00:00</td><td>1992-01-03&nbsp;00:00:00</td><td>0.006372</td><td>0.001012</td><td>0.000931</td><td>0.002771</td><td>1.0</td><td>0.0</td></tr><tr><td>1</td><td>1992-01-03&nbsp;00:00:00</td><td>1992-02-02&nbsp;00:00:00</td><td>0.231195</td><td>0.088566</td><td>0.088825</td><td>0.136195</td><td>1.0</td><td>0.000567</td></tr><tr><td>2</td><td>1992-01-03&nbsp;00:00:00</td><td>1992-03-03&nbsp;00:00:00</td><td>0.193612</td><td>0.157787</td><td>0.157573</td><td>0.169657</td><td>1.0</td><td>0.003764</td></tr><tr><td>3</td><td>1992-01-03&nbsp;00:00:00</td><td>1992-04-02&nbsp;00:00:00</td><td>0.201443</td><td>0.199245</td><td>0.201111</td><td>0.2006</td><td>1.0</td><td>0.010051</td></tr><tr><td>4</td><td>1992-01-03&nbsp;00:00:00</td><td>1992-05-02&nbsp;00:00:00</td><td>0.230072</td><td>0.228478</td><td>0.229138</td><td>0.229229</td><td>1.0</td><td>0.019428</td></tr><tr><td>&hellip;</td><td>&hellip;</td><td>&hellip;</td><td>&hellip;</td><td>&hellip;</td><td>&hellip;</td><td>&hellip;</td><td>&hellip;</td><td>&hellip;</td></tr><tr><td>7391</td><td>1998-12-27&nbsp;00:00:00</td><td>1998-08-29&nbsp;00:00:00</td><td>0.000568</td><td>0.000582</td><td>0.000557</td><td>0.000569</td><td>0.000004</td><td>0.978716</td></tr><tr><td>7392</td><td>1998-12-27&nbsp;00:00:00</td><td>1998-09-28&nbsp;00:00:00</td><td>0.000556</td><td>0.000566</td><td>0.000572</td><td>0.000564</td><td>0.000004</td><td>0.988609</td></tr><tr><td>7393</td><td>1998-12-27&nbsp;00:00:00</td><td>1998-10-28&nbsp;00:00:00</td><td>0.000571</td><td>0.000582</td><td>0.00056</td><td>0.000571</td><td>0.000004</td><td>0.995406</td></tr><tr><td>7394</td><td>1998-12-27&nbsp;00:00:00</td><td>1998-11-27&nbsp;00:00:00</td><td>0.000557</td><td>0.000567</td><td>0.000569</td><td>0.000564</td><td>0.000004</td><td>0.999114</td></tr><tr><td>7395</td><td>1998-12-27&nbsp;00:00:00</td><td>1998-12-27&nbsp;00:00:00</td><td>0.012798</td><td>0.017295</td><td>0.01322</td><td>0.014437</td><td>0.000004</td><td>0.999996</td></tr></tbody></table></div>"
      ],
      "text/plain": [
       "shape: (7_396, 9)\n",
       "┌──────┬────────────┬────────────┬───────────┬───┬───────────┬────────────┬────────────┬───────────┐\n",
       "│ id   ┆ receiptdat ┆ receiptdat ┆ elapsed_0 ┆ … ┆ elapsed_2 ┆ mean_elaps ┆ selectivit ┆ selectivi │\n",
       "│ ---  ┆ e1         ┆ e2         ┆ ---       ┆   ┆ ---       ┆ ed         ┆ y1         ┆ ty2       │\n",
       "│ i64  ┆ ---        ┆ ---        ┆ f64       ┆   ┆ f64       ┆ ---        ┆ ---        ┆ ---       │\n",
       "│      ┆ datetime[m ┆ datetime[m ┆           ┆   ┆           ┆ f64        ┆ f64        ┆ f64       │\n",
       "│      ┆ s]         ┆ s]         ┆           ┆   ┆           ┆            ┆            ┆           │\n",
       "╞══════╪════════════╪════════════╪═══════════╪═══╪═══════════╪════════════╪════════════╪═══════════╡\n",
       "│ 0    ┆ 1992-01-03 ┆ 1992-01-03 ┆ 0.006372  ┆ … ┆ 0.000931  ┆ 0.002771   ┆ 1.0        ┆ 0.0       │\n",
       "│      ┆ 00:00:00   ┆ 00:00:00   ┆           ┆   ┆           ┆            ┆            ┆           │\n",
       "│ 1    ┆ 1992-01-03 ┆ 1992-02-02 ┆ 0.231195  ┆ … ┆ 0.088825  ┆ 0.136195   ┆ 1.0        ┆ 0.000567  │\n",
       "│      ┆ 00:00:00   ┆ 00:00:00   ┆           ┆   ┆           ┆            ┆            ┆           │\n",
       "│ 2    ┆ 1992-01-03 ┆ 1992-03-03 ┆ 0.193612  ┆ … ┆ 0.157573  ┆ 0.169657   ┆ 1.0        ┆ 0.003764  │\n",
       "│      ┆ 00:00:00   ┆ 00:00:00   ┆           ┆   ┆           ┆            ┆            ┆           │\n",
       "│ 3    ┆ 1992-01-03 ┆ 1992-04-02 ┆ 0.201443  ┆ … ┆ 0.201111  ┆ 0.2006     ┆ 1.0        ┆ 0.010051  │\n",
       "│      ┆ 00:00:00   ┆ 00:00:00   ┆           ┆   ┆           ┆            ┆            ┆           │\n",
       "│ 4    ┆ 1992-01-03 ┆ 1992-05-02 ┆ 0.230072  ┆ … ┆ 0.229138  ┆ 0.229229   ┆ 1.0        ┆ 0.019428  │\n",
       "│      ┆ 00:00:00   ┆ 00:00:00   ┆           ┆   ┆           ┆            ┆            ┆           │\n",
       "│ …    ┆ …          ┆ …          ┆ …         ┆ … ┆ …         ┆ …          ┆ …          ┆ …         │\n",
       "│ 7391 ┆ 1998-12-27 ┆ 1998-08-29 ┆ 0.000568  ┆ … ┆ 0.000557  ┆ 0.000569   ┆ 0.000004   ┆ 0.978716  │\n",
       "│      ┆ 00:00:00   ┆ 00:00:00   ┆           ┆   ┆           ┆            ┆            ┆           │\n",
       "│ 7392 ┆ 1998-12-27 ┆ 1998-09-28 ┆ 0.000556  ┆ … ┆ 0.000572  ┆ 0.000564   ┆ 0.000004   ┆ 0.988609  │\n",
       "│      ┆ 00:00:00   ┆ 00:00:00   ┆           ┆   ┆           ┆            ┆            ┆           │\n",
       "│ 7393 ┆ 1998-12-27 ┆ 1998-10-28 ┆ 0.000571  ┆ … ┆ 0.00056   ┆ 0.000571   ┆ 0.000004   ┆ 0.995406  │\n",
       "│      ┆ 00:00:00   ┆ 00:00:00   ┆           ┆   ┆           ┆            ┆            ┆           │\n",
       "│ 7394 ┆ 1998-12-27 ┆ 1998-11-27 ┆ 0.000557  ┆ … ┆ 0.000569  ┆ 0.000564   ┆ 0.000004   ┆ 0.999114  │\n",
       "│      ┆ 00:00:00   ┆ 00:00:00   ┆           ┆   ┆           ┆            ┆            ┆           │\n",
       "│ 7395 ┆ 1998-12-27 ┆ 1998-12-27 ┆ 0.012798  ┆ … ┆ 0.01322   ┆ 0.014437   ┆ 0.000004   ┆ 0.999996  │\n",
       "│      ┆ 00:00:00   ┆ 00:00:00   ┆           ┆   ┆           ┆            ┆            ┆           │\n",
       "└──────┴────────────┴────────────┴───────────┴───┴───────────┴────────────┴────────────┴───────────┘"
      ]
     },
     "execution_count": 2,
     "metadata": {},
     "output_type": "execute_result"
    }
   ],
   "source": [
    "data = pl.read_csv('../data/tpch_q12_sweep.csv').rename({'': 'id'})\n",
    "d = pl.read_json('../data/q12_result.json')\n",
    "data = data.with_columns(mean_elapsed=pl.mean_horizontal('elapsed_0', 'elapsed_1', 'elapsed_2'))\n",
    "data = data.with_columns(\n",
    "    pl.col(\"receiptdate1\").str.to_datetime(\"%Y-%m-%d\", time_unit='ms'),\n",
    "    pl.col(\"receiptdate2\").str.to_datetime(\"%Y-%m-%d\", time_unit='ms')\n",
    ")\n",
    "table_rd1 = pl.DataFrame(\n",
    "    {\n",
    "        'receiptdate1': d['sel_receiptdate1'][0].keys(),\n",
    "        'selectivity1': d['sel_receiptdate1'][0].values()\n",
    "    }\n",
    ").with_columns(pl.col(\"receiptdate1\").str.to_datetime(\"%Y-%m-%d\", time_unit='ms'))\n",
    "table_rd2 = pl.DataFrame(\n",
    "    {\n",
    "        'receiptdate2': d['sel_receiptdate2'][0].keys(),\n",
    "        'selectivity2': d['sel_receiptdate2'][0].values()\n",
    "    }\n",
    ").with_columns(pl.col(\"receiptdate2\").str.to_datetime(\"%Y-%m-%d\", time_unit='ms'))\n",
    "data = data.join(table_rd1, on='receiptdate1').join(table_rd2, on='receiptdate2')\n",
    "data"
   ]
  },
  {
   "cell_type": "code",
   "execution_count": 3,
   "id": "ca0bc37c-58d1-40f8-9b6f-ead559565320",
   "metadata": {},
   "outputs": [
    {
     "data": {
      "text/html": [
       "<div><style>\n",
       ".dataframe > thead > tr,\n",
       ".dataframe > tbody > tr {\n",
       "  text-align: right;\n",
       "  white-space: pre-wrap;\n",
       "}\n",
       "</style>\n",
       "<small>shape: (29_070, 3)</small><table border=\"1\" class=\"dataframe\"><thead><tr><th>row1_id</th><th>row2_id</th><th>slope</th></tr><tr><td>i64</td><td>i64</td><td>f64</td></tr></thead><tbody><tr><td>0</td><td>1</td><td>49.143525</td></tr><tr><td>0</td><td>86</td><td>3.71849</td></tr><tr><td>0</td><td>87</td><td>23.907892</td></tr><tr><td>1</td><td>2</td><td>1.245692</td></tr><tr><td>1</td><td>86</td><td>182.73971</td></tr><tr><td>&hellip;</td><td>&hellip;</td><td>&hellip;</td></tr><tr><td>7390</td><td>7391</td><td>1.005479</td></tr><tr><td>7391</td><td>7392</td><td>1.007602</td></tr><tr><td>7392</td><td>7393</td><td>1.011122</td></tr><tr><td>7393</td><td>7394</td><td>1.011407</td></tr><tr><td>7394</td><td>7395</td><td>25.583016</td></tr></tbody></table></div>"
      ],
      "text/plain": [
       "shape: (29_070, 3)\n",
       "┌─────────┬─────────┬───────────┐\n",
       "│ row1_id ┆ row2_id ┆ slope     │\n",
       "│ ---     ┆ ---     ┆ ---       │\n",
       "│ i64     ┆ i64     ┆ f64       │\n",
       "╞═════════╪═════════╪═══════════╡\n",
       "│ 0       ┆ 1       ┆ 49.143525 │\n",
       "│ 0       ┆ 86      ┆ 3.71849   │\n",
       "│ 0       ┆ 87      ┆ 23.907892 │\n",
       "│ 1       ┆ 2       ┆ 1.245692  │\n",
       "│ 1       ┆ 86      ┆ 182.73971 │\n",
       "│ …       ┆ …       ┆ …         │\n",
       "│ 7390    ┆ 7391    ┆ 1.005479  │\n",
       "│ 7391    ┆ 7392    ┆ 1.007602  │\n",
       "│ 7392    ┆ 7393    ┆ 1.011122  │\n",
       "│ 7393    ┆ 7394    ┆ 1.011407  │\n",
       "│ 7394    ┆ 7395    ┆ 25.583016 │\n",
       "└─────────┴─────────┴───────────┘"
      ]
     },
     "execution_count": 3,
     "metadata": {},
     "output_type": "execute_result"
    }
   ],
   "source": [
    "deviation_log = d['deviation_log'][0]\n",
    "table_dev = pl.DataFrame({'deviation': d['deviation_log'][0]}).with_columns(pl.col(\"deviation\").list.to_struct()).unnest(\"deviation\")\n",
    "table_dev = table_dev.rename(\n",
    "        {'field_0': 'row1_id',\n",
    "        'field_1': 'row2_id',\n",
    "        'field_2': 'slope'}\n",
    "    ).with_columns(pl.col('row1_id').cast(pl.Int64), pl.col('row2_id').cast(pl.Int64))\n",
    "table_dev"
   ]
  },
  {
   "cell_type": "markdown",
   "id": "243492fc-0937-4173-8bb4-41a8f9569744",
   "metadata": {},
   "source": [
    "# Training Initial GP\n",
    "\n",
    "We'll select 10 starting points to train our GP model initially.\n",
    "\n",
    "The model acts as a function that takes in two queries (represented by 2 receipt dates) and outputs an estimated slope."
   ]
  },
  {
   "cell_type": "code",
   "execution_count": 5,
   "id": "8ec106b7-921f-454b-b556-4142158161c0",
   "metadata": {},
   "outputs": [],
   "source": [
    "sample = (\n",
    "    table_dev\n",
    "    .sample(10)\n",
    "    .join(data, left_on='row1_id', right_on='id')\n",
    "    .join(data, left_on='row2_id', right_on='id', suffix='_b')\n",
    ")\n",
    "train_x = sample.select('receiptdate1', 'receiptdate2', 'receiptdate1_b', 'receiptdate2_b').cast(pl.Float64).to_torch()\n",
    "train_y = sample.select('slope').to_torch()"
   ]
  },
  {
   "cell_type": "code",
   "execution_count": 6,
   "id": "d556bce7-7e36-482f-8cde-e71dd3a64405",
   "metadata": {},
   "outputs": [
    {
     "data": {
      "text/plain": [
       "ExactMarginalLogLikelihood(\n",
       "  (likelihood): GaussianLikelihood(\n",
       "    (noise_covar): HomoskedasticNoise(\n",
       "      (noise_prior): LogNormalPrior()\n",
       "      (raw_noise_constraint): GreaterThan(1.000E-04)\n",
       "    )\n",
       "  )\n",
       "  (model): SingleTaskGP(\n",
       "    (likelihood): GaussianLikelihood(\n",
       "      (noise_covar): HomoskedasticNoise(\n",
       "        (noise_prior): LogNormalPrior()\n",
       "        (raw_noise_constraint): GreaterThan(1.000E-04)\n",
       "      )\n",
       "    )\n",
       "    (mean_module): ConstantMean()\n",
       "    (covar_module): RBFKernel(\n",
       "      (lengthscale_prior): LogNormalPrior()\n",
       "      (raw_lengthscale_constraint): GreaterThan(2.500E-02)\n",
       "    )\n",
       "    (outcome_transform): Standardize()\n",
       "    (input_transform): Normalize()\n",
       "  )\n",
       ")"
      ]
     },
     "execution_count": 6,
     "metadata": {},
     "output_type": "execute_result"
    }
   ],
   "source": [
    "gp = SingleTaskGP(\n",
    "    train_X=train_x,\n",
    "    train_Y=train_y,\n",
    "    input_transform=Normalize(d=len(train_x[0])),\n",
    "    outcome_transform=Standardize(m=1),\n",
    ")\n",
    "mll = ExactMarginalLogLikelihood(gp.likelihood, gp)\n",
    "fit_gpytorch_mll(mll)"
   ]
  },
  {
   "cell_type": "markdown",
   "id": "25dd5ca0-16a0-4dc8-96c8-3aef85688b76",
   "metadata": {},
   "source": [
    "### Acquisition Function\n",
    "\n",
    "For now, as our GP estimates the slope from two queries we will directly try to maximize this value.\n",
    "\n",
    "The bounds will allow us to control the area in which we search, this is where we can decide how to divide up the search space.\n",
    "\n",
    "We can try something dumb where we search over the whole space for now"
   ]
  },
  {
   "cell_type": "code",
   "execution_count": 7,
   "id": "7d366c85-bf2b-47cb-bd55-90ddd2ff44d4",
   "metadata": {
    "scrolled": true
   },
   "outputs": [
    {
     "data": {
      "text/plain": [
       "(tensor([[799770733576, 709737847556, 808019773963, 810552194928]]),\n",
       " tensor(-5.9125, dtype=torch.float64))"
      ]
     },
     "execution_count": 7,
     "metadata": {},
     "output_type": "execute_result"
    }
   ],
   "source": [
    "bounds = torch.stack([\n",
    "    torch.concat([\n",
    "        data.select(pl.col('receiptdate1', 'receiptdate2').min()).cast(pl.Float64).to_torch().flatten(), # minimum bounds for query 1\n",
    "        data.select(pl.col('receiptdate1', 'receiptdate2').min()).cast(pl.Float64).to_torch().flatten()  # minimum bounds for query 2\n",
    "    ]),\n",
    "    torch.concat([\n",
    "        data.select(pl.col('receiptdate1', 'receiptdate2').max()).cast(pl.Float64).to_torch().flatten(), # maximum bounds for query 1\n",
    "        data.select(pl.col('receiptdate1', 'receiptdate2').max()).cast(pl.Float64).to_torch().flatten()  # maximum bounds for query 2\n",
    "    ]),\n",
    "]).to(torch.double)\n",
    "\n",
    "logNEI = LogExpectedImprovement(model=gp, best_f=train_y.max())\n",
    "candidate, acq_value = optimize_acqf(\n",
    "    logNEI, bounds=bounds, q=1, num_restarts=4, raw_samples=100,\n",
    ")\n",
    "candidate = candidate.round().to(torch.int64) # Note we round off the item as we're dealing in ms\n",
    "candidate, acq_value"
   ]
  },
  {
   "cell_type": "markdown",
   "id": "da05e75e-4ca7-4310-9357-6fbef92f3e68",
   "metadata": {},
   "source": [
    "Once we have the candidate we rebuild the query into something we could potentially pass into the DB\n",
    "\n",
    "TODO: we will want to map the closest query to this for experimentation, however, we will need to round to the nearest whole number as we're dealing in milliseconds"
   ]
  },
  {
   "cell_type": "code",
   "execution_count": 8,
   "id": "c299b8d1-0d62-45d4-9ec9-c69f21719529",
   "metadata": {},
   "outputs": [
    {
     "data": {
      "text/plain": [
       "({'receiptdate1': datetime.datetime(1995, 5, 6, 10, 32, 13),\n",
       "  'receiptdate2': datetime.datetime(1992, 6, 28, 9, 24, 7)},\n",
       " {'receiptdate1': datetime.datetime(1995, 8, 9, 21, 56, 13),\n",
       "  'receiptdate2': datetime.datetime(1995, 9, 8, 5, 23, 14)})"
      ]
     },
     "execution_count": 8,
     "metadata": {},
     "output_type": "execute_result"
    }
   ],
   "source": [
    "# For some reason datetime does not take in ms, so we'll convert to seconds losing a little more precision\n",
    "predicates_query_a = {\n",
    "    'receiptdate1': datetime.datetime.fromtimestamp(candidate[0][0].item() // 1000), # datetime ms -> s\n",
    "    'receiptdate2': datetime.datetime.fromtimestamp(candidate[0][1].item() // 1000), # datetime ms -> s\n",
    "}\n",
    "predicates_query_b = {\n",
    "    'receiptdate1': datetime.datetime.fromtimestamp(candidate[0][2].item() // 1000), # datetime ms -> s\n",
    "    'receiptdate2': datetime.datetime.fromtimestamp(candidate[0][3].item() // 1000), # datetime ms -> s\n",
    "}\n",
    "predicates_query_a, predicates_query_b"
   ]
  },
  {
   "cell_type": "markdown",
   "id": "5c96b1ed-7183-475f-8488-bc209e4d1423",
   "metadata": {},
   "source": [
    "## Gaining feedback by running on the DB\n",
    "\n",
    "Now we have some queries to test, we can run it back on the DB to gain feedback on whether or not this worked out"
   ]
  },
  {
   "cell_type": "code",
   "execution_count": 9,
   "id": "7a831d32-4356-404d-ba71-318b178622db",
   "metadata": {},
   "outputs": [],
   "source": [
    "import duckdb\n",
    "import time"
   ]
  },
  {
   "cell_type": "code",
   "execution_count": 10,
   "id": "c5dc8187-fa05-430a-91ed-ccd17e61ce21",
   "metadata": {},
   "outputs": [],
   "source": [
    "class DBWrapperTpchQ12:\n",
    "    def __init__(self, db_path: str) -> None:\n",
    "        con = duckdb.connect(database=db_path)\n",
    "        con.execute('SET enable_progress_bar = false')\n",
    "        self.con: duckdb.DuckDBPyConnection = con\n",
    "        self.query_template = \"\"\"\n",
    "            SELECT\n",
    "              l_shipmode,\n",
    "              SUM(CASE\n",
    "                  WHEN o_orderpriority = '1-URGENT'\n",
    "                      OR o_orderpriority = '2-HIGH'\n",
    "                      THEN 1\n",
    "                  ELSE 0\n",
    "              END) as high_line_count,\n",
    "              SUM(CASE\n",
    "                  WHEN o_orderpriority <> '1-URGENT'\n",
    "                      AND o_orderpriority <> '2-HIGH'\n",
    "                      THEN 1\n",
    "                  ELSE 0\n",
    "              END) AS low_line_count\n",
    "            FROM\n",
    "                orders,\n",
    "                lineitem\n",
    "            WHERE\n",
    "              o_orderkey = l_orderkey\n",
    "              AND l_shipmode IN ('AIR', 'REG AIR')\n",
    "              AND l_commitdate < l_receiptdate\n",
    "              AND l_shipdate < l_commitdate\n",
    "              AND l_receiptdate >= $receiptdate1\n",
    "              AND l_receiptdate < $receiptdate2\n",
    "            GROUP BY\n",
    "                  l_shipmode \n",
    "            ORDER BY\n",
    "                l_shipmode;\n",
    "        \"\"\"\n",
    "\n",
    "    def run_query(self, predicates: dict):\n",
    "        start = time.time()\n",
    "        self.con.sql(self.query_template, params=predicates)\n",
    "        elapsed = time.time() - start\n",
    "        \n",
    "        return elapsed"
   ]
  },
  {
   "cell_type": "code",
   "execution_count": 11,
   "id": "6fbd3aea-dda3-4860-aca0-b9cb432ed717",
   "metadata": {},
   "outputs": [],
   "source": [
    "def calculate_qerror(a, b):\n",
    "    return max(a/b, b/a)"
   ]
  },
  {
   "cell_type": "code",
   "execution_count": 12,
   "id": "cfbbc3a3-1451-46cb-ba55-ad24b6637662",
   "metadata": {},
   "outputs": [],
   "source": [
    "db = DBWrapperTpchQ12(db_path='../data/tpch_sf100.db')"
   ]
  },
  {
   "cell_type": "code",
   "execution_count": 13,
   "id": "08b1fbe8-fee8-47ea-9dae-c06c7a99c017",
   "metadata": {},
   "outputs": [],
   "source": [
    "a = db.run_query(predicates_query_a)\n",
    "b = db.run_query(predicates_query_b)"
   ]
  },
  {
   "cell_type": "code",
   "execution_count": 14,
   "id": "aef8320a-bc5b-4665-8235-a33591441034",
   "metadata": {},
   "outputs": [
    {
     "data": {
      "text/plain": [
       "16.54903763208361"
      ]
     },
     "execution_count": 14,
     "metadata": {},
     "output_type": "execute_result"
    }
   ],
   "source": [
    "calculate_qerror(a, b)"
   ]
  },
  {
   "cell_type": "markdown",
   "id": "867fa208-1873-42e4-b750-d37746046fb5",
   "metadata": {},
   "source": [
    "# Doing the training loop\n",
    "\n",
    "With one point of feedback, we can now do the whole training loop. Simply placing back the data point we just got into the original dataset and rebuilding the new GP model we can incorporate this new piece of data."
   ]
  },
  {
   "cell_type": "code",
   "execution_count": null,
   "id": "18f78650-a8dd-4c8a-9c25-2bbd29e5f418",
   "metadata": {},
   "outputs": [],
   "source": []
  }
 ],
 "metadata": {
  "kernelspec": {
   "display_name": "Python 3 (ipykernel)",
   "language": "python",
   "name": "python3"
  },
  "language_info": {
   "codemirror_mode": {
    "name": "ipython",
    "version": 3
   },
   "file_extension": ".py",
   "mimetype": "text/x-python",
   "name": "python",
   "nbconvert_exporter": "python",
   "pygments_lexer": "ipython3",
   "version": "3.12.4"
  }
 },
 "nbformat": 4,
 "nbformat_minor": 5
}
